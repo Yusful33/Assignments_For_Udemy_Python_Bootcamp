{
 "cells": [
  {
   "cell_type": "markdown",
   "metadata": {
    "collapsed": true
   },
   "source": [
    "# Statements Assessment Test\n",
    "Let's test your knowledge!"
   ]
  },
  {
   "cell_type": "markdown",
   "metadata": {},
   "source": [
    "_____\n",
    "**Use <code>for</code>, .split(), and <code>if</code> to create a Statement that will print out words that start with 's':**"
   ]
  },
  {
   "cell_type": "code",
   "execution_count": 18,
   "metadata": {},
   "outputs": [],
   "source": [
    "st = 'Print only the words that start with s in this sentence'"
   ]
  },
  {
   "cell_type": "code",
   "execution_count": 21,
   "metadata": {},
   "outputs": [
    {
     "name": "stdout",
     "output_type": "stream",
     "text": [
      "start\n",
      "s\n",
      "sentence\n"
     ]
    }
   ],
   "source": [
    "def split_line(text):\n",
    "    for i in st.split():\n",
    "        if i.startswith(\"s\"):\n",
    "            print(i)\n",
    "\n",
    "split_line(st)"
   ]
  },
  {
   "cell_type": "markdown",
   "metadata": {},
   "source": [
    "______\n",
    "**Use range() to print all the even numbers from 0 to 10.**"
   ]
  },
  {
   "cell_type": "code",
   "execution_count": 22,
   "metadata": {},
   "outputs": [
    {
     "name": "stdout",
     "output_type": "stream",
     "text": [
      "0\n",
      "2\n",
      "4\n",
      "6\n",
      "8\n",
      "10\n",
      "12\n",
      "14\n",
      "16\n",
      "18\n",
      "20\n",
      "22\n",
      "24\n",
      "26\n",
      "28\n",
      "30\n",
      "32\n",
      "34\n",
      "36\n",
      "38\n",
      "40\n",
      "42\n",
      "44\n",
      "46\n",
      "48\n",
      "50\n",
      "52\n",
      "54\n",
      "56\n",
      "58\n",
      "60\n",
      "62\n",
      "64\n",
      "66\n",
      "68\n",
      "70\n",
      "72\n",
      "74\n",
      "76\n",
      "78\n",
      "80\n",
      "82\n",
      "84\n",
      "86\n",
      "88\n",
      "90\n",
      "92\n",
      "94\n",
      "96\n",
      "98\n"
     ]
    }
   ],
   "source": [
    "def prob(num):\n",
    "    for i in num:\n",
    "        if i%2 == 0:\n",
    "            print(i)\n",
    "        else:\n",
    "            pass\n",
    "prob(range(0,100))"
   ]
  },
  {
   "cell_type": "markdown",
   "metadata": {},
   "source": [
    "___\n",
    "**Use a List Comprehension to create a list of all numbers between 1 and 50 that are divisible by 3.**"
   ]
  },
  {
   "cell_type": "code",
   "execution_count": 23,
   "metadata": {},
   "outputs": [],
   "source": [
    "#Code in this cell\n",
    "lst = [x for x in range(1,50) if x % 3 == 0]"
   ]
  },
  {
   "cell_type": "code",
   "execution_count": 24,
   "metadata": {},
   "outputs": [
    {
     "data": {
      "text/plain": [
       "[3, 6, 9, 12, 15, 18, 21, 24, 27, 30, 33, 36, 39, 42, 45, 48]"
      ]
     },
     "execution_count": 24,
     "metadata": {},
     "output_type": "execute_result"
    }
   ],
   "source": [
    "lst"
   ]
  },
  {
   "cell_type": "markdown",
   "metadata": {},
   "source": [
    "_____\n",
    "**Go through the string below and if the length of a word is even print \"even!\"**"
   ]
  },
  {
   "cell_type": "code",
   "execution_count": null,
   "metadata": {},
   "outputs": [],
   "source": [
    "st = 'Print every word in this sentence that has an even number of letters'"
   ]
  },
  {
   "cell_type": "code",
   "execution_count": 27,
   "metadata": {},
   "outputs": [
    {
     "name": "stdout",
     "output_type": "stream",
     "text": [
      "even!\n",
      "even!\n",
      "even!\n",
      "even!\n",
      "even!\n",
      "even!\n"
     ]
    }
   ],
   "source": [
    "def even_word(text):\n",
    "    for i in st.split():\n",
    "        if len(i) % 2 == 0:\n",
    "            print(\"even!\")\n",
    "#st = [word for word in st if len(word) % 2 == 0 then print(\"even!\")]\n",
    "even_word(st)"
   ]
  },
  {
   "cell_type": "markdown",
   "metadata": {},
   "source": [
    "____\n",
    "**Write a program that prints the integers from 1 to 100. But for multiples of three print \"Fizz\" instead of the number, and for the multiples of five print \"Buzz\". For numbers which are multiples of both three and five print \"FizzBuzz\".**"
   ]
  },
  {
   "cell_type": "code",
   "execution_count": 42,
   "metadata": {},
   "outputs": [
    {
     "name": "stdout",
     "output_type": "stream",
     "text": [
      "1 Does not qualify for the Fizz, Buzz or FizzBuzz club\n",
      "2 Does not qualify for the Fizz, Buzz or FizzBuzz club\n",
      "3  Fizz\n",
      "3 Does not qualify for the Fizz, Buzz or FizzBuzz club\n",
      "4 Does not qualify for the Fizz, Buzz or FizzBuzz club\n",
      "5  Buzz\n",
      "6  Fizz\n",
      "6 Does not qualify for the Fizz, Buzz or FizzBuzz club\n",
      "7 Does not qualify for the Fizz, Buzz or FizzBuzz club\n",
      "8 Does not qualify for the Fizz, Buzz or FizzBuzz club\n",
      "9  Fizz\n",
      "9 Does not qualify for the Fizz, Buzz or FizzBuzz club\n",
      "10  Buzz\n",
      "11 Does not qualify for the Fizz, Buzz or FizzBuzz club\n",
      "12  Fizz\n",
      "12 Does not qualify for the Fizz, Buzz or FizzBuzz club\n",
      "13 Does not qualify for the Fizz, Buzz or FizzBuzz club\n",
      "14 Does not qualify for the Fizz, Buzz or FizzBuzz club\n",
      "15  FizzBuzz\n",
      "15  Fizz\n",
      "15  Buzz\n",
      "16 Does not qualify for the Fizz, Buzz or FizzBuzz club\n",
      "17 Does not qualify for the Fizz, Buzz or FizzBuzz club\n",
      "18  Fizz\n",
      "18 Does not qualify for the Fizz, Buzz or FizzBuzz club\n",
      "19 Does not qualify for the Fizz, Buzz or FizzBuzz club\n",
      "20  Buzz\n",
      "21  Fizz\n",
      "21 Does not qualify for the Fizz, Buzz or FizzBuzz club\n",
      "22 Does not qualify for the Fizz, Buzz or FizzBuzz club\n",
      "23 Does not qualify for the Fizz, Buzz or FizzBuzz club\n",
      "24  Fizz\n",
      "24 Does not qualify for the Fizz, Buzz or FizzBuzz club\n",
      "25  Buzz\n",
      "26 Does not qualify for the Fizz, Buzz or FizzBuzz club\n",
      "27  Fizz\n",
      "27 Does not qualify for the Fizz, Buzz or FizzBuzz club\n",
      "28 Does not qualify for the Fizz, Buzz or FizzBuzz club\n",
      "29 Does not qualify for the Fizz, Buzz or FizzBuzz club\n",
      "30  FizzBuzz\n",
      "30  Fizz\n",
      "30  Buzz\n",
      "31 Does not qualify for the Fizz, Buzz or FizzBuzz club\n",
      "32 Does not qualify for the Fizz, Buzz or FizzBuzz club\n",
      "33  Fizz\n",
      "33 Does not qualify for the Fizz, Buzz or FizzBuzz club\n",
      "34 Does not qualify for the Fizz, Buzz or FizzBuzz club\n",
      "35  Buzz\n",
      "36  Fizz\n",
      "36 Does not qualify for the Fizz, Buzz or FizzBuzz club\n",
      "37 Does not qualify for the Fizz, Buzz or FizzBuzz club\n",
      "38 Does not qualify for the Fizz, Buzz or FizzBuzz club\n",
      "39  Fizz\n",
      "39 Does not qualify for the Fizz, Buzz or FizzBuzz club\n",
      "40  Buzz\n",
      "41 Does not qualify for the Fizz, Buzz or FizzBuzz club\n",
      "42  Fizz\n",
      "42 Does not qualify for the Fizz, Buzz or FizzBuzz club\n",
      "43 Does not qualify for the Fizz, Buzz or FizzBuzz club\n",
      "44 Does not qualify for the Fizz, Buzz or FizzBuzz club\n",
      "45  FizzBuzz\n",
      "45  Fizz\n",
      "45  Buzz\n",
      "46 Does not qualify for the Fizz, Buzz or FizzBuzz club\n",
      "47 Does not qualify for the Fizz, Buzz or FizzBuzz club\n",
      "48  Fizz\n",
      "48 Does not qualify for the Fizz, Buzz or FizzBuzz club\n",
      "49 Does not qualify for the Fizz, Buzz or FizzBuzz club\n",
      "50  Buzz\n",
      "51  Fizz\n",
      "51 Does not qualify for the Fizz, Buzz or FizzBuzz club\n",
      "52 Does not qualify for the Fizz, Buzz or FizzBuzz club\n",
      "53 Does not qualify for the Fizz, Buzz or FizzBuzz club\n",
      "54  Fizz\n",
      "54 Does not qualify for the Fizz, Buzz or FizzBuzz club\n",
      "55  Buzz\n",
      "56 Does not qualify for the Fizz, Buzz or FizzBuzz club\n",
      "57  Fizz\n",
      "57 Does not qualify for the Fizz, Buzz or FizzBuzz club\n",
      "58 Does not qualify for the Fizz, Buzz or FizzBuzz club\n",
      "59 Does not qualify for the Fizz, Buzz or FizzBuzz club\n",
      "60  FizzBuzz\n",
      "60  Fizz\n",
      "60  Buzz\n",
      "61 Does not qualify for the Fizz, Buzz or FizzBuzz club\n",
      "62 Does not qualify for the Fizz, Buzz or FizzBuzz club\n",
      "63  Fizz\n",
      "63 Does not qualify for the Fizz, Buzz or FizzBuzz club\n",
      "64 Does not qualify for the Fizz, Buzz or FizzBuzz club\n",
      "65  Buzz\n",
      "66  Fizz\n",
      "66 Does not qualify for the Fizz, Buzz or FizzBuzz club\n",
      "67 Does not qualify for the Fizz, Buzz or FizzBuzz club\n",
      "68 Does not qualify for the Fizz, Buzz or FizzBuzz club\n",
      "69  Fizz\n",
      "69 Does not qualify for the Fizz, Buzz or FizzBuzz club\n",
      "70  Buzz\n",
      "71 Does not qualify for the Fizz, Buzz or FizzBuzz club\n",
      "72  Fizz\n",
      "72 Does not qualify for the Fizz, Buzz or FizzBuzz club\n",
      "73 Does not qualify for the Fizz, Buzz or FizzBuzz club\n",
      "74 Does not qualify for the Fizz, Buzz or FizzBuzz club\n",
      "75  FizzBuzz\n",
      "75  Fizz\n",
      "75  Buzz\n",
      "76 Does not qualify for the Fizz, Buzz or FizzBuzz club\n",
      "77 Does not qualify for the Fizz, Buzz or FizzBuzz club\n",
      "78  Fizz\n",
      "78 Does not qualify for the Fizz, Buzz or FizzBuzz club\n",
      "79 Does not qualify for the Fizz, Buzz or FizzBuzz club\n",
      "80  Buzz\n",
      "81  Fizz\n",
      "81 Does not qualify for the Fizz, Buzz or FizzBuzz club\n",
      "82 Does not qualify for the Fizz, Buzz or FizzBuzz club\n",
      "83 Does not qualify for the Fizz, Buzz or FizzBuzz club\n",
      "84  Fizz\n",
      "84 Does not qualify for the Fizz, Buzz or FizzBuzz club\n",
      "85  Buzz\n",
      "86 Does not qualify for the Fizz, Buzz or FizzBuzz club\n",
      "87  Fizz\n",
      "87 Does not qualify for the Fizz, Buzz or FizzBuzz club\n",
      "88 Does not qualify for the Fizz, Buzz or FizzBuzz club\n",
      "89 Does not qualify for the Fizz, Buzz or FizzBuzz club\n",
      "90  FizzBuzz\n",
      "90  Fizz\n",
      "90  Buzz\n",
      "91 Does not qualify for the Fizz, Buzz or FizzBuzz club\n",
      "92 Does not qualify for the Fizz, Buzz or FizzBuzz club\n",
      "93  Fizz\n",
      "93 Does not qualify for the Fizz, Buzz or FizzBuzz club\n",
      "94 Does not qualify for the Fizz, Buzz or FizzBuzz club\n",
      "95  Buzz\n",
      "96  Fizz\n",
      "96 Does not qualify for the Fizz, Buzz or FizzBuzz club\n",
      "97 Does not qualify for the Fizz, Buzz or FizzBuzz club\n",
      "98 Does not qualify for the Fizz, Buzz or FizzBuzz club\n",
      "99  Fizz\n",
      "99 Does not qualify for the Fizz, Buzz or FizzBuzz club\n"
     ]
    }
   ],
   "source": [
    "for num in range(1,100):\n",
    "    #string = \"\"\n",
    "    if num % 3 == 0 and num % 5 == 0:\n",
    "        print(num, \" FizzBuzz\")\n",
    "    if num % 3 == 0:\n",
    "        print(num, \" Fizz\")\n",
    "    if num % 5 == 0:\n",
    "        print(num, \" Buzz\")\n",
    "    else:\n",
    "        print(num, \"Does not qualify for the Fizz, Buzz or FizzBuzz club\")\n"
   ]
  },
  {
   "cell_type": "markdown",
   "metadata": {},
   "source": [
    "____\n",
    "**Use List Comprehension to create a list of the first letters of every word in the string below:**"
   ]
  },
  {
   "cell_type": "code",
   "execution_count": 36,
   "metadata": {},
   "outputs": [],
   "source": [
    "st = 'Create a list of the first letters of every word in this string'"
   ]
  },
  {
   "cell_type": "code",
   "execution_count": 40,
   "metadata": {},
   "outputs": [],
   "source": [
    "second = [x for x in st.split()]"
   ]
  },
  {
   "cell_type": "code",
   "execution_count": 41,
   "metadata": {},
   "outputs": [
    {
     "data": {
      "text/plain": [
       "['Create',\n",
       " 'a',\n",
       " 'list',\n",
       " 'of',\n",
       " 'the',\n",
       " 'first',\n",
       " 'letters',\n",
       " 'of',\n",
       " 'every',\n",
       " 'word',\n",
       " 'in',\n",
       " 'this',\n",
       " 'string']"
      ]
     },
     "execution_count": 41,
     "metadata": {},
     "output_type": "execute_result"
    }
   ],
   "source": [
    "second"
   ]
  },
  {
   "cell_type": "markdown",
   "metadata": {},
   "source": [
    "### Great Job!"
   ]
  }
 ],
 "metadata": {
  "kernelspec": {
   "display_name": "Python 3",
   "language": "python",
   "name": "python3"
  },
  "language_info": {
   "codemirror_mode": {
    "name": "ipython",
    "version": 3
   },
   "file_extension": ".py",
   "mimetype": "text/x-python",
   "name": "python",
   "nbconvert_exporter": "python",
   "pygments_lexer": "ipython3",
   "version": "3.7.3"
  }
 },
 "nbformat": 4,
 "nbformat_minor": 1
}
